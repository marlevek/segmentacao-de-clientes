{
 "cells": [
  {
   "cell_type": "markdown",
   "metadata": {},
   "source": [
    "### Segmentacao de clientes\n",
    "\n",
    "Conjunto de dados utilizado: https://www.kaggle.com/datasets/ermismbatuhan/digital-marketing-ecommerce-customer-behavior \n",
    "\n",
    "Segmentação de usuários de E-Commerce com base em seus comportamentos e características usando 3 técnicas de machine learning:  Random Forest, XGBoost e Redes Neurais.\n",
    "\n",
    "Isso pode ajudar na personalização de serviços ou estratégias de marketing específicas para cada grupo."
   ]
  },
  {
   "cell_type": "code",
   "execution_count": 47,
   "metadata": {},
   "outputs": [],
   "source": [
    "import pandas as pd\n",
    "import numpy as np\n",
    "import matplotlib.pyplot as plt\n",
    "from sklearn.preprocessing import StandardScaler\n",
    "from sklearn.cluster import KMeans\n",
    "from sklearn.model_selection import train_test_split, KFold, cross_val_score, StratifiedKFold\n",
    "from sklearn.metrics import classification_report, confusion_matrix\n",
    "from xgboost import XGBClassifier\n",
    "from keras.models import Sequential\n",
    "from keras.layers import Dense\n"
   ]
  },
  {
   "cell_type": "markdown",
   "metadata": {},
   "source": [
    "# <h4>1. Carregando o conjunto de dados</h4>"
   ]
  },
  {
   "cell_type": "code",
   "execution_count": 2,
   "metadata": {},
   "outputs": [
    {
     "data": {
      "text/html": [
       "<div>\n",
       "<style scoped>\n",
       "    .dataframe tbody tr th:only-of-type {\n",
       "        vertical-align: middle;\n",
       "    }\n",
       "\n",
       "    .dataframe tbody tr th {\n",
       "        vertical-align: top;\n",
       "    }\n",
       "\n",
       "    .dataframe thead th {\n",
       "        text-align: right;\n",
       "    }\n",
       "</style>\n",
       "<table border=\"1\" class=\"dataframe\">\n",
       "  <thead>\n",
       "    <tr style=\"text-align: right;\">\n",
       "      <th></th>\n",
       "      <th>account length</th>\n",
       "      <th>location code</th>\n",
       "      <th>user id</th>\n",
       "      <th>credit card info save</th>\n",
       "      <th>push status</th>\n",
       "      <th>add to wishlist</th>\n",
       "      <th>desktop sessions</th>\n",
       "      <th>app sessions</th>\n",
       "      <th>desktop transactions</th>\n",
       "      <th>total product detail views</th>\n",
       "      <th>session duration</th>\n",
       "      <th>promotion clicks</th>\n",
       "      <th>avg order value</th>\n",
       "      <th>sale product views</th>\n",
       "      <th>discount rate per visited products</th>\n",
       "      <th>product detail view per app session</th>\n",
       "      <th>app transactions</th>\n",
       "      <th>add to cart per session</th>\n",
       "      <th>customer service calls</th>\n",
       "      <th>churn</th>\n",
       "    </tr>\n",
       "  </thead>\n",
       "  <tbody>\n",
       "    <tr>\n",
       "      <th>0</th>\n",
       "      <td>128</td>\n",
       "      <td>415</td>\n",
       "      <td>3824657</td>\n",
       "      <td>no</td>\n",
       "      <td>yes</td>\n",
       "      <td>25</td>\n",
       "      <td>265</td>\n",
       "      <td>45</td>\n",
       "      <td>17</td>\n",
       "      <td>110</td>\n",
       "      <td>197</td>\n",
       "      <td>87</td>\n",
       "      <td>244.7</td>\n",
       "      <td>91</td>\n",
       "      <td>11.01</td>\n",
       "      <td>10.0</td>\n",
       "      <td>3</td>\n",
       "      <td>2.70</td>\n",
       "      <td>1</td>\n",
       "      <td>0</td>\n",
       "    </tr>\n",
       "    <tr>\n",
       "      <th>1</th>\n",
       "      <td>107</td>\n",
       "      <td>415</td>\n",
       "      <td>3717191</td>\n",
       "      <td>no</td>\n",
       "      <td>yes</td>\n",
       "      <td>26</td>\n",
       "      <td>162</td>\n",
       "      <td>27</td>\n",
       "      <td>17</td>\n",
       "      <td>123</td>\n",
       "      <td>196</td>\n",
       "      <td>103</td>\n",
       "      <td>254.4</td>\n",
       "      <td>103</td>\n",
       "      <td>11.45</td>\n",
       "      <td>13.7</td>\n",
       "      <td>3</td>\n",
       "      <td>3.70</td>\n",
       "      <td>1</td>\n",
       "      <td>0</td>\n",
       "    </tr>\n",
       "    <tr>\n",
       "      <th>2</th>\n",
       "      <td>137</td>\n",
       "      <td>415</td>\n",
       "      <td>3581921</td>\n",
       "      <td>no</td>\n",
       "      <td>no</td>\n",
       "      <td>0</td>\n",
       "      <td>243</td>\n",
       "      <td>41</td>\n",
       "      <td>10</td>\n",
       "      <td>114</td>\n",
       "      <td>121</td>\n",
       "      <td>110</td>\n",
       "      <td>162.6</td>\n",
       "      <td>104</td>\n",
       "      <td>7.32</td>\n",
       "      <td>12.2</td>\n",
       "      <td>5</td>\n",
       "      <td>3.29</td>\n",
       "      <td>0</td>\n",
       "      <td>0</td>\n",
       "    </tr>\n",
       "    <tr>\n",
       "      <th>3</th>\n",
       "      <td>84</td>\n",
       "      <td>408</td>\n",
       "      <td>3759999</td>\n",
       "      <td>yes</td>\n",
       "      <td>no</td>\n",
       "      <td>0</td>\n",
       "      <td>299</td>\n",
       "      <td>51</td>\n",
       "      <td>5</td>\n",
       "      <td>71</td>\n",
       "      <td>62</td>\n",
       "      <td>88</td>\n",
       "      <td>196.9</td>\n",
       "      <td>89</td>\n",
       "      <td>8.86</td>\n",
       "      <td>6.6</td>\n",
       "      <td>7</td>\n",
       "      <td>1.78</td>\n",
       "      <td>2</td>\n",
       "      <td>0</td>\n",
       "    </tr>\n",
       "    <tr>\n",
       "      <th>4</th>\n",
       "      <td>75</td>\n",
       "      <td>415</td>\n",
       "      <td>3306626</td>\n",
       "      <td>yes</td>\n",
       "      <td>no</td>\n",
       "      <td>0</td>\n",
       "      <td>167</td>\n",
       "      <td>28</td>\n",
       "      <td>13</td>\n",
       "      <td>113</td>\n",
       "      <td>148</td>\n",
       "      <td>122</td>\n",
       "      <td>186.9</td>\n",
       "      <td>121</td>\n",
       "      <td>8.41</td>\n",
       "      <td>10.1</td>\n",
       "      <td>3</td>\n",
       "      <td>2.73</td>\n",
       "      <td>3</td>\n",
       "      <td>0</td>\n",
       "    </tr>\n",
       "  </tbody>\n",
       "</table>\n",
       "</div>"
      ],
      "text/plain": [
       "   account length  location code  user id credit card info save push status  \\\n",
       "0             128            415  3824657                    no         yes   \n",
       "1             107            415  3717191                    no         yes   \n",
       "2             137            415  3581921                    no          no   \n",
       "3              84            408  3759999                   yes          no   \n",
       "4              75            415  3306626                   yes          no   \n",
       "\n",
       "   add to wishlist  desktop sessions  app sessions  desktop transactions  \\\n",
       "0               25               265            45                    17   \n",
       "1               26               162            27                    17   \n",
       "2                0               243            41                    10   \n",
       "3                0               299            51                     5   \n",
       "4                0               167            28                    13   \n",
       "\n",
       "   total product detail views  session duration  promotion clicks  \\\n",
       "0                         110               197                87   \n",
       "1                         123               196               103   \n",
       "2                         114               121               110   \n",
       "3                          71                62                88   \n",
       "4                         113               148               122   \n",
       "\n",
       "   avg order value  sale product views  discount rate per visited products  \\\n",
       "0            244.7                  91                               11.01   \n",
       "1            254.4                 103                               11.45   \n",
       "2            162.6                 104                                7.32   \n",
       "3            196.9                  89                                8.86   \n",
       "4            186.9                 121                                8.41   \n",
       "\n",
       "   product detail view per app session  app transactions  \\\n",
       "0                                 10.0                 3   \n",
       "1                                 13.7                 3   \n",
       "2                                 12.2                 5   \n",
       "3                                  6.6                 7   \n",
       "4                                 10.1                 3   \n",
       "\n",
       "   add to cart per session  customer service calls  churn  \n",
       "0                     2.70                       1      0  \n",
       "1                     3.70                       1      0  \n",
       "2                     3.29                       0      0  \n",
       "3                     1.78                       2      0  \n",
       "4                     2.73                       3      0  "
      ]
     },
     "execution_count": 2,
     "metadata": {},
     "output_type": "execute_result"
    }
   ],
   "source": [
    "df = pd.read_csv('data1.csv', sep=';', decimal=',')\n",
    "df.head()"
   ]
  },
  {
   "cell_type": "code",
   "execution_count": 3,
   "metadata": {},
   "outputs": [
    {
     "name": "stdout",
     "output_type": "stream",
     "text": [
      "<class 'pandas.core.frame.DataFrame'>\n",
      "RangeIndex: 3333 entries, 0 to 3332\n",
      "Data columns (total 20 columns):\n",
      " #   Column                               Non-Null Count  Dtype  \n",
      "---  ------                               --------------  -----  \n",
      " 0   account length                       3333 non-null   int64  \n",
      " 1   location code                        3333 non-null   int64  \n",
      " 2   user id                              3333 non-null   int64  \n",
      " 3   credit card info save                3333 non-null   object \n",
      " 4   push status                          3333 non-null   object \n",
      " 5   add to wishlist                      3333 non-null   int64  \n",
      " 6   desktop sessions                     3333 non-null   int64  \n",
      " 7   app sessions                         3333 non-null   int64  \n",
      " 8   desktop transactions                 3333 non-null   int64  \n",
      " 9   total product detail views           3333 non-null   int64  \n",
      " 10  session duration                     3333 non-null   int64  \n",
      " 11  promotion clicks                     3333 non-null   int64  \n",
      " 12  avg order value                      3333 non-null   float64\n",
      " 13  sale product views                   3333 non-null   int64  \n",
      " 14  discount rate per visited products   3333 non-null   float64\n",
      " 15  product detail view per app session  3333 non-null   float64\n",
      " 16  app transactions                     3333 non-null   int64  \n",
      " 17  add to cart per session              3333 non-null   float64\n",
      " 18  customer service calls               3333 non-null   int64  \n",
      " 19  churn                                3333 non-null   int64  \n",
      "dtypes: float64(4), int64(14), object(2)\n",
      "memory usage: 520.9+ KB\n"
     ]
    }
   ],
   "source": [
    "# Informação sobre o conjunto de dados\n",
    "df.info()"
   ]
  },
  {
   "cell_type": "code",
   "execution_count": 4,
   "metadata": {},
   "outputs": [],
   "source": [
    "# Primeiro vamos remover as colunas que não serão usadas\n",
    "columns_to_remove = ['account length', 'location code', 'user id']\n",
    "df = df.drop(columns=columns_to_remove, axis=1)"
   ]
  },
  {
   "cell_type": "markdown",
   "metadata": {},
   "source": [
    "Transformar colunas categóricas em numéricas"
   ]
  },
  {
   "cell_type": "code",
   "execution_count": 5,
   "metadata": {},
   "outputs": [],
   "source": [
    "from sklearn.preprocessing import LabelEncoder\n",
    "\n",
    "categorical_columns = ['credit card info save', 'push status']\n",
    "\n",
    "for column in categorical_columns:\n",
    "    label_encoder = LabelEncoder()\n",
    "    df[column] = label_encoder.fit_transform(df[column])"
   ]
  },
  {
   "cell_type": "markdown",
   "metadata": {},
   "source": [
    "# <h4>2. Separação em treino e teste</h4>"
   ]
  },
  {
   "cell_type": "code",
   "execution_count": 6,
   "metadata": {},
   "outputs": [],
   "source": [
    "# Primeiro vamos escalonar o conjunto de dados\n",
    "numeric_columns = df.columns.difference(categorical_columns)\n",
    "\n",
    "scaler = StandardScaler()\n",
    "df[numeric_columns] = scaler.fit_transform(df[numeric_columns])\n"
   ]
  },
  {
   "cell_type": "code",
   "execution_count": 11,
   "metadata": {},
   "outputs": [
    {
     "data": {
      "text/html": [
       "<div>\n",
       "<style scoped>\n",
       "    .dataframe tbody tr th:only-of-type {\n",
       "        vertical-align: middle;\n",
       "    }\n",
       "\n",
       "    .dataframe tbody tr th {\n",
       "        vertical-align: top;\n",
       "    }\n",
       "\n",
       "    .dataframe thead th {\n",
       "        text-align: right;\n",
       "    }\n",
       "</style>\n",
       "<table border=\"1\" class=\"dataframe\">\n",
       "  <thead>\n",
       "    <tr style=\"text-align: right;\">\n",
       "      <th></th>\n",
       "      <th>credit card info save</th>\n",
       "      <th>push status</th>\n",
       "      <th>add to wishlist</th>\n",
       "      <th>desktop sessions</th>\n",
       "      <th>app sessions</th>\n",
       "      <th>desktop transactions</th>\n",
       "      <th>total product detail views</th>\n",
       "      <th>session duration</th>\n",
       "      <th>promotion clicks</th>\n",
       "      <th>avg order value</th>\n",
       "      <th>sale product views</th>\n",
       "      <th>discount rate per visited products</th>\n",
       "      <th>product detail view per app session</th>\n",
       "      <th>app transactions</th>\n",
       "      <th>add to cart per session</th>\n",
       "      <th>customer service calls</th>\n",
       "      <th>churn</th>\n",
       "    </tr>\n",
       "  </thead>\n",
       "  <tbody>\n",
       "    <tr>\n",
       "      <th>0</th>\n",
       "      <td>0</td>\n",
       "      <td>1</td>\n",
       "      <td>1.234883</td>\n",
       "      <td>1.564550</td>\n",
       "      <td>1.557193</td>\n",
       "      <td>-0.020265</td>\n",
       "      <td>0.476643</td>\n",
       "      <td>-0.079666</td>\n",
       "      <td>-0.658138</td>\n",
       "      <td>0.866743</td>\n",
       "      <td>-0.465494</td>\n",
       "      <td>0.866029</td>\n",
       "      <td>-0.085008</td>\n",
       "      <td>-0.601195</td>\n",
       "      <td>-0.085690</td>\n",
       "      <td>-0.427932</td>\n",
       "      <td>-0.411672</td>\n",
       "    </tr>\n",
       "    <tr>\n",
       "      <th>1</th>\n",
       "      <td>0</td>\n",
       "      <td>1</td>\n",
       "      <td>1.307948</td>\n",
       "      <td>-0.327130</td>\n",
       "      <td>-0.384977</td>\n",
       "      <td>-0.020265</td>\n",
       "      <td>1.124503</td>\n",
       "      <td>-0.099387</td>\n",
       "      <td>0.145038</td>\n",
       "      <td>1.058571</td>\n",
       "      <td>0.147825</td>\n",
       "      <td>1.059390</td>\n",
       "      <td>1.240482</td>\n",
       "      <td>-0.601195</td>\n",
       "      <td>1.241169</td>\n",
       "      <td>-0.427932</td>\n",
       "      <td>-0.411672</td>\n",
       "    </tr>\n",
       "    <tr>\n",
       "      <th>2</th>\n",
       "      <td>0</td>\n",
       "      <td>0</td>\n",
       "      <td>-0.591760</td>\n",
       "      <td>1.160502</td>\n",
       "      <td>1.125600</td>\n",
       "      <td>-1.639456</td>\n",
       "      <td>0.675985</td>\n",
       "      <td>-1.578480</td>\n",
       "      <td>0.496427</td>\n",
       "      <td>-0.756869</td>\n",
       "      <td>0.198935</td>\n",
       "      <td>-0.755571</td>\n",
       "      <td>0.703121</td>\n",
       "      <td>0.211534</td>\n",
       "      <td>0.697156</td>\n",
       "      <td>-1.188218</td>\n",
       "      <td>-0.411672</td>\n",
       "    </tr>\n",
       "    <tr>\n",
       "      <th>3</th>\n",
       "      <td>1</td>\n",
       "      <td>0</td>\n",
       "      <td>-0.591760</td>\n",
       "      <td>2.188988</td>\n",
       "      <td>2.204583</td>\n",
       "      <td>-2.796021</td>\n",
       "      <td>-1.466936</td>\n",
       "      <td>-2.742033</td>\n",
       "      <td>-0.607939</td>\n",
       "      <td>-0.078551</td>\n",
       "      <td>-0.567714</td>\n",
       "      <td>-0.078806</td>\n",
       "      <td>-1.303026</td>\n",
       "      <td>1.024263</td>\n",
       "      <td>-1.306401</td>\n",
       "      <td>0.332354</td>\n",
       "      <td>-0.411672</td>\n",
       "    </tr>\n",
       "    <tr>\n",
       "      <th>4</th>\n",
       "      <td>1</td>\n",
       "      <td>0</td>\n",
       "      <td>-0.591760</td>\n",
       "      <td>-0.235301</td>\n",
       "      <td>-0.277078</td>\n",
       "      <td>-0.945517</td>\n",
       "      <td>0.626149</td>\n",
       "      <td>-1.046007</td>\n",
       "      <td>1.098809</td>\n",
       "      <td>-0.276311</td>\n",
       "      <td>1.067803</td>\n",
       "      <td>-0.276562</td>\n",
       "      <td>-0.049184</td>\n",
       "      <td>-0.601195</td>\n",
       "      <td>-0.045885</td>\n",
       "      <td>1.092641</td>\n",
       "      <td>-0.411672</td>\n",
       "    </tr>\n",
       "  </tbody>\n",
       "</table>\n",
       "</div>"
      ],
      "text/plain": [
       "   credit card info save  push status  add to wishlist  desktop sessions  \\\n",
       "0                      0            1         1.234883          1.564550   \n",
       "1                      0            1         1.307948         -0.327130   \n",
       "2                      0            0        -0.591760          1.160502   \n",
       "3                      1            0        -0.591760          2.188988   \n",
       "4                      1            0        -0.591760         -0.235301   \n",
       "\n",
       "   app sessions  desktop transactions  total product detail views  \\\n",
       "0      1.557193             -0.020265                    0.476643   \n",
       "1     -0.384977             -0.020265                    1.124503   \n",
       "2      1.125600             -1.639456                    0.675985   \n",
       "3      2.204583             -2.796021                   -1.466936   \n",
       "4     -0.277078             -0.945517                    0.626149   \n",
       "\n",
       "   session duration  promotion clicks  avg order value  sale product views  \\\n",
       "0         -0.079666         -0.658138         0.866743           -0.465494   \n",
       "1         -0.099387          0.145038         1.058571            0.147825   \n",
       "2         -1.578480          0.496427        -0.756869            0.198935   \n",
       "3         -2.742033         -0.607939        -0.078551           -0.567714   \n",
       "4         -1.046007          1.098809        -0.276311            1.067803   \n",
       "\n",
       "   discount rate per visited products  product detail view per app session  \\\n",
       "0                            0.866029                            -0.085008   \n",
       "1                            1.059390                             1.240482   \n",
       "2                           -0.755571                             0.703121   \n",
       "3                           -0.078806                            -1.303026   \n",
       "4                           -0.276562                            -0.049184   \n",
       "\n",
       "   app transactions  add to cart per session  customer service calls     churn  \n",
       "0         -0.601195                -0.085690               -0.427932 -0.411672  \n",
       "1         -0.601195                 1.241169               -0.427932 -0.411672  \n",
       "2          0.211534                 0.697156               -1.188218 -0.411672  \n",
       "3          1.024263                -1.306401                0.332354 -0.411672  \n",
       "4         -0.601195                -0.045885                1.092641 -0.411672  "
      ]
     },
     "execution_count": 11,
     "metadata": {},
     "output_type": "execute_result"
    }
   ],
   "source": [
    "df.head()"
   ]
  },
  {
   "cell_type": "code",
   "execution_count": 12,
   "metadata": {},
   "outputs": [],
   "source": [
    "# Como a coluna churn não está mais com 0 e 1 (binária) vamos refazer o label encoding só para ela\n",
    "label_encoder = LabelEncoder()\n",
    "df['churn'] = label_encoder.fit_transform(df['churn'])"
   ]
  },
  {
   "cell_type": "code",
   "execution_count": 14,
   "metadata": {},
   "outputs": [],
   "source": [
    "# Selecionando as variáveis para Treino e teste\n",
    "X = df.drop('churn', axis=1)\n",
    "y = df['churn']\n",
    "\n",
    "X_train, X_test, y_train, y_test = train_test_split(\n",
    "    X, y, test_size=0.2, random_state=42\n",
    ")"
   ]
  },
  {
   "cell_type": "markdown",
   "metadata": {},
   "source": [
    "# <h4>3. Segmentação dos Clientes</h4>"
   ]
  },
  {
   "cell_type": "markdown",
   "metadata": {},
   "source": [
    "1. Criação dos modelos"
   ]
  },
  {
   "cell_type": "code",
   "execution_count": 15,
   "metadata": {},
   "outputs": [],
   "source": [
    "# K-Means\n",
    "k = 3\n",
    "\n",
    "kmeans = KMeans(n_clusters=k, random_state=42)\n",
    "\n",
    "# XGBoost\n",
    "xgb_model = XGBClassifier()\n",
    "\n",
    "# Redes Neurais\n",
    "rn_model = Sequential()\n",
    "rn_model.add(Dense(64, input_dim=X.shape[1], activation='relu'))\n",
    "rn_model.add(Dense(32, activation='relu'))\n",
    "rn_model.add(Dense(16, activation='relu'))\n",
    "rn_model.add(Dense(1, activation='sigmoid'))   \n",
    "rn_model.compile(loss='binary_crossentropy', optimizer='adam', metrics=['accuracy'])       "
   ]
  },
  {
   "cell_type": "markdown",
   "metadata": {},
   "source": [
    "2. Treinamento dos modelos"
   ]
  },
  {
   "cell_type": "code",
   "execution_count": 19,
   "metadata": {},
   "outputs": [
    {
     "name": "stdout",
     "output_type": "stream",
     "text": [
      "Epoch 1/10\n",
      "84/84 [==============================] - 0s 2ms/step - loss: 0.1831 - accuracy: 0.9411 - val_loss: 0.2010 - val_accuracy: 0.9325\n",
      "Epoch 2/10\n",
      "84/84 [==============================] - 0s 1ms/step - loss: 0.1733 - accuracy: 0.9445 - val_loss: 0.1968 - val_accuracy: 0.9310\n",
      "Epoch 3/10\n",
      "84/84 [==============================] - 0s 1ms/step - loss: 0.1676 - accuracy: 0.9467 - val_loss: 0.1985 - val_accuracy: 0.9385\n",
      "Epoch 4/10\n",
      "84/84 [==============================] - 0s 1ms/step - loss: 0.1571 - accuracy: 0.9516 - val_loss: 0.1967 - val_accuracy: 0.9370\n",
      "Epoch 5/10\n",
      "84/84 [==============================] - 0s 1ms/step - loss: 0.1507 - accuracy: 0.9539 - val_loss: 0.2062 - val_accuracy: 0.9340\n",
      "Epoch 6/10\n",
      "84/84 [==============================] - 0s 1ms/step - loss: 0.1458 - accuracy: 0.9512 - val_loss: 0.1941 - val_accuracy: 0.9310\n",
      "Epoch 7/10\n",
      "84/84 [==============================] - 0s 1ms/step - loss: 0.1426 - accuracy: 0.9542 - val_loss: 0.1968 - val_accuracy: 0.9370\n",
      "Epoch 8/10\n",
      "84/84 [==============================] - 0s 1ms/step - loss: 0.1344 - accuracy: 0.9617 - val_loss: 0.1835 - val_accuracy: 0.9385\n",
      "Epoch 9/10\n",
      "84/84 [==============================] - 0s 2ms/step - loss: 0.1275 - accuracy: 0.9617 - val_loss: 0.2213 - val_accuracy: 0.9295\n",
      "Epoch 10/10\n",
      "84/84 [==============================] - 0s 1ms/step - loss: 0.1235 - accuracy: 0.9659 - val_loss: 0.1896 - val_accuracy: 0.9415\n"
     ]
    },
    {
     "data": {
      "text/plain": [
       "<keras.callbacks.History at 0x1f73d095ff0>"
      ]
     },
     "execution_count": 19,
     "metadata": {},
     "output_type": "execute_result"
    }
   ],
   "source": [
    "kmeans.fit(X_train, y_train)\n",
    "#xgb_model.fit(X_train, y_train)\n",
    "xgb_model.fit(X_train, y_train)\n",
    "rn_model.fit(X_train, y_train, epochs=10, batch_size=32, validation_data=(X_test, y_test))"
   ]
  },
  {
   "cell_type": "markdown",
   "metadata": {},
   "source": [
    "# <h4>4. Previsão</h4>"
   ]
  },
  {
   "cell_type": "code",
   "execution_count": 21,
   "metadata": {},
   "outputs": [],
   "source": [
    "kmeans_pred = kmeans.predict(X_test)\n",
    "xgb_pred = xgb_model.predict(X_test)\n",
    "rn_pred = rn_model.predict(X_test)"
   ]
  },
  {
   "cell_type": "markdown",
   "metadata": {},
   "source": [
    "# <h4>5. Avaliação dos modelos</h4>"
   ]
  },
  {
   "cell_type": "code",
   "execution_count": 25,
   "metadata": {},
   "outputs": [
    {
     "name": "stdout",
     "output_type": "stream",
     "text": [
      "Relatório de Classificação (KMeans:\n",
      "              precision    recall  f1-score   support\n",
      "\n",
      "           0       0.89      0.36      0.51       566\n",
      "           1       0.20      0.44      0.27       101\n",
      "           2       0.00      0.00      0.00         0\n",
      "\n",
      "    accuracy                           0.37       667\n",
      "   macro avg       0.36      0.26      0.26       667\n",
      "weighted avg       0.79      0.37      0.47       667\n",
      "\n"
     ]
    },
    {
     "name": "stderr",
     "output_type": "stream",
     "text": [
      "c:\\Users\\marce\\AppData\\Local\\Programs\\Python\\Python310\\lib\\site-packages\\sklearn\\metrics\\_classification.py:1318: UndefinedMetricWarning: Recall and F-score are ill-defined and being set to 0.0 in labels with no true samples. Use `zero_division` parameter to control this behavior.\n",
      "  _warn_prf(average, modifier, msg_start, len(result))\n",
      "c:\\Users\\marce\\AppData\\Local\\Programs\\Python\\Python310\\lib\\site-packages\\sklearn\\metrics\\_classification.py:1318: UndefinedMetricWarning: Recall and F-score are ill-defined and being set to 0.0 in labels with no true samples. Use `zero_division` parameter to control this behavior.\n",
      "  _warn_prf(average, modifier, msg_start, len(result))\n",
      "c:\\Users\\marce\\AppData\\Local\\Programs\\Python\\Python310\\lib\\site-packages\\sklearn\\metrics\\_classification.py:1318: UndefinedMetricWarning: Recall and F-score are ill-defined and being set to 0.0 in labels with no true samples. Use `zero_division` parameter to control this behavior.\n",
      "  _warn_prf(average, modifier, msg_start, len(result))\n"
     ]
    }
   ],
   "source": [
    "# KMeans\n",
    "report = classification_report(y_test, kmeans_pred)\n",
    "print('Relatório de Classificação (KMeans:')\n",
    "print(report)"
   ]
  },
  {
   "cell_type": "code",
   "execution_count": 29,
   "metadata": {},
   "outputs": [
    {
     "name": "stdout",
     "output_type": "stream",
     "text": [
      "Relatório de Classificação (XGBoost):               precision    recall  f1-score   support\n",
      "\n",
      "           0       0.96      0.99      0.97       566\n",
      "           1       0.92      0.77      0.84       101\n",
      "\n",
      "    accuracy                           0.96       667\n",
      "   macro avg       0.94      0.88      0.91       667\n",
      "weighted avg       0.95      0.96      0.95       667\n",
      "\n"
     ]
    }
   ],
   "source": [
    "print(f'Relatório de Classificação (XGBoost): {classification_report(y_test, xgb_pred)}')"
   ]
  },
  {
   "cell_type": "code",
   "execution_count": 32,
   "metadata": {},
   "outputs": [
    {
     "name": "stdout",
     "output_type": "stream",
     "text": [
      "Matriz de Confusão:\n",
      "[[560   6]\n",
      " [ 33  68]]\n"
     ]
    }
   ],
   "source": [
    "# Rede Neural\n",
    "# Aplicar um limiar de decisão (por exemplo, 0.5) para transformar previsões contínuas em binárias\n",
    "threshold = 0.5\n",
    "rn_pred_binary = np.where(rn_pred > threshold, 1, 0)\n",
    "\n",
    "print(f'Matriz de Confusão:\\n{confusion_matrix(y_test, rn_pred_binary)}')"
   ]
  },
  {
   "cell_type": "markdown",
   "metadata": {},
   "source": [
    "# <h4>6. Validação Cruzada</h4>"
   ]
  },
  {
   "cell_type": "code",
   "execution_count": 46,
   "metadata": {},
   "outputs": [
    {
     "name": "stdout",
     "output_type": "stream",
     "text": [
      "Pontuações de validação cruzada: [0.94602699 0.95352324 0.96101949 0.95945946 0.95945946]\n",
      "Precisão média: 95.59%\n"
     ]
    }
   ],
   "source": [
    "# XGBoost\n",
    "scores = cross_val_score(xgb_model, X, y, cv=5, scoring='accuracy')\n",
    "\n",
    "#Imprima as pontuações médias\n",
    "print(\"Pontuações de validação cruzada:\", scores)\n",
    "print(f\"Precisão média: {scores.mean() * 100:.2f}%\")"
   ]
  },
  {
   "cell_type": "code",
   "execution_count": 56,
   "metadata": {},
   "outputs": [
    {
     "name": "stdout",
     "output_type": "stream",
     "text": [
      "Pontuações de validação cruzada: [0.92803597 0.94602698 0.91604197 0.9099099  0.91591591]\n",
      "Precisão média: 92.32%\n"
     ]
    }
   ],
   "source": [
    "# Rede Neural\n",
    "\n",
    "# Função para criar e treinar o modelo de rede neural\n",
    "def train_neural_network(X_train, y_train, X_test, y_test):\n",
    "    model = Sequential()\n",
    "    model.add(Dense(64, input_dim=X_train.shape[1], activation='relu'))\n",
    "    model.add(Dense(32, activation='relu'))\n",
    "    model.add(Dense(16, activation='relu'))\n",
    "    model.add(Dense(1, activation='sigmoid'))\n",
    "    model.compile(loss='binary_crossentropy', optimizer='adam', metrics=['accuracy'])\n",
    "    \n",
    "    model.fit(X_train, y_train, epochs=10, batch_size=32, verbose=0)\n",
    "    \n",
    "    # Avalie o modelo no conjunto de teste\n",
    "    accuracy = model.evaluate(X_test, y_test, verbose=0)[1]\n",
    "    \n",
    "    return accuracy\n",
    "\n",
    "# Crie os k-folds\n",
    "kfold = StratifiedKFold(n_splits=5, shuffle=True, random_state=42)\n",
    "\n",
    "# Inicialize uma lista para armazenar as pontuações de validação cruzada\n",
    "cv_scores = []\n",
    "\n",
    "# Divida os dados em conjuntos de treinamento e teste para cada fold\n",
    "for train_idx, test_idx in kfold.split(X, y):\n",
    "    X_train, X_test = X.iloc[train_idx], X.iloc[test_idx]\n",
    "    y_train, y_test = y[train_idx], y[test_idx]\n",
    "    \n",
    "    # Treine e avalie o modelo dentro do loop de validação cruzada\n",
    "    accuracy = train_neural_network(X_train, y_train, X_test, y_test)\n",
    "    \n",
    "    cv_scores.append(accuracy)\n",
    "\n",
    "# Converta as pontuações em um array numpy\n",
    "cv_scores = np.array(cv_scores)\n",
    "\n",
    "# Imprima as pontuações\n",
    "print(\"Pontuações de validação cruzada:\", cv_scores)\n",
    "print(f\"Precisão média: {cv_scores.mean() * 100:.2f}%\")"
   ]
  },
  {
   "cell_type": "markdown",
   "metadata": {},
   "source": [
    "Pelos resultados vemos que o modelo XGBoots teve o melhor desempenho (95,59%), contra 92,32% da Rede Neural e 37% do KMeans."
   ]
  }
 ],
 "metadata": {
  "kernelspec": {
   "display_name": "Python 3",
   "language": "python",
   "name": "python3"
  },
  "language_info": {
   "codemirror_mode": {
    "name": "ipython",
    "version": 3
   },
   "file_extension": ".py",
   "mimetype": "text/x-python",
   "name": "python",
   "nbconvert_exporter": "python",
   "pygments_lexer": "ipython3",
   "version": "3.10.1"
  },
  "orig_nbformat": 4
 },
 "nbformat": 4,
 "nbformat_minor": 2
}
